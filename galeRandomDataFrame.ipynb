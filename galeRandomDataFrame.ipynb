{
 "cells": [
  {
   "cell_type": "code",
   "execution_count": 192,
   "metadata": {},
   "outputs": [],
   "source": [
    "import csv\n",
    "import pandas as pd\n",
    "import random as rd\n",
    "from copy import deepcopy"
   ]
  },
  {
   "cell_type": "code",
   "execution_count": 193,
   "metadata": {},
   "outputs": [
    {
     "name": "stdout",
     "output_type": "stream",
     "text": [
      "[['projet 1', 11], ['projet 2', 11], ['projet 3', 11], ['projet 4', 11], ['projet 5', 11], ['projet 6', 11]]\n"
     ]
    }
   ],
   "source": [
    "# Chaque item correspond à la place disponible dans chaque projet\n",
    "lsProjetName = [\"projet 1\", \"projet 2\", \"projet 3\", \"projet 4\", \"projet 5\", \"projet 6\"]\n",
    "lsProjet = [[projetName, 11] for projetName in lsProjetName]\n",
    "print(lsProjet)\n",
    "\n",
    "#nbEleves = 18 + 42 + 2\n",
    "# Attention méthode Yvon"
   ]
  },
  {
   "cell_type": "code",
   "execution_count": 194,
   "metadata": {},
   "outputs": [
    {
     "name": "stdout",
     "output_type": "stream",
     "text": [
      "['Nom Prénom', 'Mes préférences\\n [Projet 1]', 'Mes préférences\\n [Projet 2]', 'Mes préférences\\n [Projet 3]', 'Mes préférences\\n [Projet 4]', 'Mes préférences\\n [Projet 5]', 'Mes préférences\\n [Projet 6]']\n",
      "[' ', '1', '2', '3', '5', '6', '4']\n",
      "['CHOMARD Eliott', '3', '2', '4', '5', '1', '6']\n"
     ]
    }
   ],
   "source": [
    "data = []\n",
    "with open(\"choix.csv\", \"r\") as f:\n",
    "    choix = csv.reader(f)\n",
    "    for line in choix:\n",
    "        #cleaning data\n",
    "        line[2] = line[1] + \" \" + line[2] \n",
    "        line = line[2::]\n",
    "        print(line)\n",
    "        data.append(list(line))\n",
    "data = data[1::]"
   ]
  },
  {
   "cell_type": "code",
   "execution_count": 195,
   "metadata": {},
   "outputs": [
    {
     "name": "stdout",
     "output_type": "stream",
     "text": [
      "[[' ', '1', '2', '3', '5', '6', '4', False, '1'], ['CHOMARD Eliott', '3', '2', '4', '5', '1', '6', False, '1']] [[' ', '1', '2', '3', '5', '6', '4'], ['CHOMARD Eliott', '3', '2', '4', '5', '1', '6']] <class 'str'>\n"
     ]
    }
   ],
   "source": [
    "preferenceE = deepcopy(data)\n",
    "for line in preferenceE:\n",
    "    line = line.append(False)\n",
    "for line in preferenceE:\n",
    "    line = line.append(\"1\")\n",
    "print(preferenceE, data, type(data[0][3]))"
   ]
  },
  {
   "cell_type": "markdown",
   "metadata": {},
   "source": [
    "L'algo nécessite 4 tables:\n",
    "* Table des préférences des élèves \n",
    "* Table de conversion identifiant unique -> Nom Prénom\n",
    "* Table de préférence des projets\n",
    "* Table d'attribution"
   ]
  },
  {
   "cell_type": "code",
   "execution_count": 196,
   "metadata": {},
   "outputs": [],
   "source": [
    "#Construction de la table de préférence élèves avec la possibilité de savoir si il a êtê attribué ou non\n",
    "columns= deepcopy(lsProjetName)\n",
    "columns.insert(0, \"Nom Prenom\")\n",
    "columns.append(\"Allocated ?\")\n",
    "columns.append(\"Actual rank\")\n",
    "\n",
    "preferenceE = pd.DataFrame(preferenceE, columns= columns)"
   ]
  },
  {
   "cell_type": "code",
   "execution_count": 197,
   "metadata": {},
   "outputs": [
    {
     "name": "stdout",
     "output_type": "stream",
     "text": [
      "       Nom Prenom projet 1 projet 2 projet 3 projet 4 projet 5 projet 6  \\\n",
      "0                        1        2        3        5        6        4   \n",
      "1  CHOMARD Eliott        3        2        4        5        1        6   \n",
      "\n",
      "   Allocated ? Actual rank  \n",
      "0        False           1  \n",
      "1        False           1   [[' ', '1', '2', '3', '5', '6', '4'], ['CHOMARD Eliott', '3', '2', '4', '5', '1', '6']]\n"
     ]
    },
    {
     "data": {
      "text/html": [
       "<div>\n",
       "<style scoped>\n",
       "    .dataframe tbody tr th:only-of-type {\n",
       "        vertical-align: middle;\n",
       "    }\n",
       "\n",
       "    .dataframe tbody tr th {\n",
       "        vertical-align: top;\n",
       "    }\n",
       "\n",
       "    .dataframe thead th {\n",
       "        text-align: right;\n",
       "    }\n",
       "</style>\n",
       "<table border=\"1\" class=\"dataframe\">\n",
       "  <thead>\n",
       "    <tr style=\"text-align: right;\">\n",
       "      <th></th>\n",
       "      <th>Nom Prenom</th>\n",
       "      <th>projet 1</th>\n",
       "      <th>projet 2</th>\n",
       "      <th>projet 3</th>\n",
       "      <th>projet 4</th>\n",
       "      <th>projet 5</th>\n",
       "      <th>projet 6</th>\n",
       "      <th>Allocated ?</th>\n",
       "      <th>Actual rank</th>\n",
       "    </tr>\n",
       "  </thead>\n",
       "  <tbody>\n",
       "    <tr>\n",
       "      <th>0</th>\n",
       "      <td></td>\n",
       "      <td>1</td>\n",
       "      <td>2</td>\n",
       "      <td>3</td>\n",
       "      <td>5</td>\n",
       "      <td>6</td>\n",
       "      <td>4</td>\n",
       "      <td>False</td>\n",
       "      <td>1</td>\n",
       "    </tr>\n",
       "    <tr>\n",
       "      <th>1</th>\n",
       "      <td>CHOMARD Eliott</td>\n",
       "      <td>3</td>\n",
       "      <td>2</td>\n",
       "      <td>4</td>\n",
       "      <td>5</td>\n",
       "      <td>1</td>\n",
       "      <td>6</td>\n",
       "      <td>False</td>\n",
       "      <td>1</td>\n",
       "    </tr>\n",
       "  </tbody>\n",
       "</table>\n",
       "</div>"
      ],
      "text/plain": [
       "       Nom Prenom projet 1 projet 2 projet 3 projet 4 projet 5 projet 6  \\\n",
       "0                        1        2        3        5        6        4   \n",
       "1  CHOMARD Eliott        3        2        4        5        1        6   \n",
       "\n",
       "   Allocated ? Actual rank  \n",
       "0        False           1  \n",
       "1        False           1  "
      ]
     },
     "execution_count": 197,
     "metadata": {},
     "output_type": "execute_result"
    }
   ],
   "source": [
    "print(preferenceE, data)\n",
    "preferenceE.head()"
   ]
  },
  {
   "cell_type": "code",
   "execution_count": 198,
   "metadata": {},
   "outputs": [
    {
     "name": "stdout",
     "output_type": "stream",
     "text": [
      "       NOM Prénom\n",
      "0                \n",
      "1  CHOMARD Eliott\n"
     ]
    }
   ],
   "source": [
    "#construction de la table de préférence\n",
    "conversion = pd.DataFrame([line[0] for line in data], columns=[\"NOM Prénom\"])\n",
    "print(conversion)"
   ]
  },
  {
   "cell_type": "code",
   "execution_count": 209,
   "metadata": {},
   "outputs": [
    {
     "name": "stdout",
     "output_type": "stream",
     "text": [
      "[[0, 1], [1, 0], [1, 0], [0, 1], [1, 0], [1, 0]]\n"
     ]
    }
   ],
   "source": [
    "#construction de la liste de préférence projet\n",
    "preferenceP = []\n",
    "for i in range(len(lsProjet)):\n",
    "    ls = [i for i in range(len(preferenceE))]\n",
    "    rd.shuffle(ls)\n",
    "    preferenceP.append(ls)\n",
    "print(preferenceP)"
   ]
  },
  {
   "cell_type": "code",
   "execution_count": 200,
   "metadata": {},
   "outputs": [
    {
     "data": {
      "text/html": [
       "<div>\n",
       "<style scoped>\n",
       "    .dataframe tbody tr th:only-of-type {\n",
       "        vertical-align: middle;\n",
       "    }\n",
       "\n",
       "    .dataframe tbody tr th {\n",
       "        vertical-align: top;\n",
       "    }\n",
       "\n",
       "    .dataframe thead th {\n",
       "        text-align: right;\n",
       "    }\n",
       "</style>\n",
       "<table border=\"1\" class=\"dataframe\">\n",
       "  <thead>\n",
       "    <tr style=\"text-align: right;\">\n",
       "      <th></th>\n",
       "      <th>Nom Prenom</th>\n",
       "      <th>projet 1</th>\n",
       "      <th>projet 2</th>\n",
       "      <th>projet 3</th>\n",
       "      <th>projet 4</th>\n",
       "      <th>projet 5</th>\n",
       "      <th>projet 6</th>\n",
       "      <th>Allocated ?</th>\n",
       "      <th>Actual rank</th>\n",
       "    </tr>\n",
       "  </thead>\n",
       "  <tbody>\n",
       "    <tr>\n",
       "      <th>0</th>\n",
       "      <td></td>\n",
       "      <td>1</td>\n",
       "      <td>2</td>\n",
       "      <td>3</td>\n",
       "      <td>5</td>\n",
       "      <td>6</td>\n",
       "      <td>4</td>\n",
       "      <td>False</td>\n",
       "      <td>1</td>\n",
       "    </tr>\n",
       "    <tr>\n",
       "      <th>1</th>\n",
       "      <td>CHOMARD Eliott</td>\n",
       "      <td>3</td>\n",
       "      <td>2</td>\n",
       "      <td>4</td>\n",
       "      <td>5</td>\n",
       "      <td>1</td>\n",
       "      <td>6</td>\n",
       "      <td>False</td>\n",
       "      <td>1</td>\n",
       "    </tr>\n",
       "  </tbody>\n",
       "</table>\n",
       "</div>"
      ],
      "text/plain": [
       "       Nom Prenom projet 1 projet 2 projet 3 projet 4 projet 5 projet 6  \\\n",
       "0                        1        2        3        5        6        4   \n",
       "1  CHOMARD Eliott        3        2        4        5        1        6   \n",
       "\n",
       "   Allocated ? Actual rank  \n",
       "0        False           1  \n",
       "1        False           1  "
      ]
     },
     "execution_count": 200,
     "metadata": {},
     "output_type": "execute_result"
    }
   ],
   "source": [
    "#test DataFrame\n",
    "preferenceE[preferenceE[\"Allocated ?\"] == False]"
   ]
  },
  {
   "cell_type": "code",
   "execution_count": 201,
   "metadata": {},
   "outputs": [],
   "source": [
    "allocation = []"
   ]
  },
  {
   "cell_type": "code",
   "execution_count": 211,
   "metadata": {},
   "outputs": [],
   "source": [
    "#useful functions\n",
    "def fullProject(lsAlloc, places):\n",
    "    if len(lsAlloc) < places:\n",
    "        return True\n",
    "    else:\n",
    "        return False\n",
    "\n",
    "def projetActual(dfPref, rank):\n",
    "    for column in dfPref.columns:\n",
    "        print(column)\n",
    "        if dfPref[column] == rank:\n",
    "            return column\n",
    "\n",
    "def satisfaction(attribution):\n",
    "    pass"
   ]
  },
  {
   "cell_type": "code",
   "execution_count": 213,
   "metadata": {},
   "outputs": [],
   "source": [
    "def galeShapley(prefE, prefP, lsP):\n",
    "    while not prefE[\"Allocated ?\"].all():\n",
    "        for i in range(len(prefE[prefE[\"Allocated ?\"] == False])):\n",
    "            #iterate over non allocated students\n",
    "            student = prefE.iloc(i)\n",
    "            print(student[1])\n",
    "            askProjet = projetActual(student, student[\"rank\"])\n",
    "            print(askProjet)\n",
    "            "
   ]
  },
  {
   "cell_type": "code",
   "execution_count": 214,
   "metadata": {},
   "outputs": [
    {
     "name": "stdout",
     "output_type": "stream",
     "text": [
      "<pandas.core.indexing._iLocIndexer object at 0x7f71ad95fea0>\n"
     ]
    },
    {
     "ename": "TypeError",
     "evalue": "Cannot index by location index with a non-integer key",
     "output_type": "error",
     "traceback": [
      "\u001b[0;31m---------------------------------------------------------------------------\u001b[0m",
      "\u001b[0;31mTypeError\u001b[0m                                 Traceback (most recent call last)",
      "\u001b[0;32m/tmp/ipykernel_38871/4156727804.py\u001b[0m in \u001b[0;36m<module>\u001b[0;34m\u001b[0m\n\u001b[1;32m      1\u001b[0m \u001b[0;31m#mise en place de Gale-Shapley\u001b[0m\u001b[0;34m\u001b[0m\u001b[0;34m\u001b[0m\u001b[0;34m\u001b[0m\u001b[0m\n\u001b[0;32m----> 2\u001b[0;31m \u001b[0mgaleShapley\u001b[0m\u001b[0;34m(\u001b[0m\u001b[0mpreferenceE\u001b[0m\u001b[0;34m,\u001b[0m \u001b[0mpreferenceP\u001b[0m\u001b[0;34m,\u001b[0m \u001b[0mlsProjetName\u001b[0m\u001b[0;34m)\u001b[0m\u001b[0;34m\u001b[0m\u001b[0;34m\u001b[0m\u001b[0m\n\u001b[0m",
      "\u001b[0;32m/tmp/ipykernel_38871/2497878791.py\u001b[0m in \u001b[0;36mgaleShapley\u001b[0;34m(prefE, prefP, lsP)\u001b[0m\n\u001b[1;32m      5\u001b[0m             \u001b[0mstudent\u001b[0m \u001b[0;34m=\u001b[0m \u001b[0mprefE\u001b[0m\u001b[0;34m.\u001b[0m\u001b[0miloc\u001b[0m\u001b[0;34m(\u001b[0m\u001b[0mi\u001b[0m\u001b[0;34m)\u001b[0m\u001b[0;34m\u001b[0m\u001b[0;34m\u001b[0m\u001b[0m\n\u001b[1;32m      6\u001b[0m             \u001b[0mprint\u001b[0m\u001b[0;34m(\u001b[0m\u001b[0mstudent\u001b[0m\u001b[0;34m)\u001b[0m\u001b[0;34m\u001b[0m\u001b[0;34m\u001b[0m\u001b[0m\n\u001b[0;32m----> 7\u001b[0;31m             \u001b[0maskProjet\u001b[0m \u001b[0;34m=\u001b[0m \u001b[0mprojetActual\u001b[0m\u001b[0;34m(\u001b[0m\u001b[0mstudent\u001b[0m\u001b[0;34m,\u001b[0m \u001b[0mstudent\u001b[0m\u001b[0;34m[\u001b[0m\u001b[0;34m\"rank\"\u001b[0m\u001b[0;34m]\u001b[0m\u001b[0;34m)\u001b[0m\u001b[0;34m\u001b[0m\u001b[0;34m\u001b[0m\u001b[0m\n\u001b[0m\u001b[1;32m      8\u001b[0m             \u001b[0mprint\u001b[0m\u001b[0;34m(\u001b[0m\u001b[0maskProjet\u001b[0m\u001b[0;34m)\u001b[0m\u001b[0;34m\u001b[0m\u001b[0;34m\u001b[0m\u001b[0m\n\u001b[1;32m      9\u001b[0m \u001b[0;34m\u001b[0m\u001b[0m\n",
      "\u001b[0;32m~/miniconda3/lib/python3.9/site-packages/pandas/core/indexing.py\u001b[0m in \u001b[0;36m__getitem__\u001b[0;34m(self, key)\u001b[0m\n\u001b[1;32m    929\u001b[0m \u001b[0;34m\u001b[0m\u001b[0m\n\u001b[1;32m    930\u001b[0m             \u001b[0mmaybe_callable\u001b[0m \u001b[0;34m=\u001b[0m \u001b[0mcom\u001b[0m\u001b[0;34m.\u001b[0m\u001b[0mapply_if_callable\u001b[0m\u001b[0;34m(\u001b[0m\u001b[0mkey\u001b[0m\u001b[0;34m,\u001b[0m \u001b[0mself\u001b[0m\u001b[0;34m.\u001b[0m\u001b[0mobj\u001b[0m\u001b[0;34m)\u001b[0m\u001b[0;34m\u001b[0m\u001b[0;34m\u001b[0m\u001b[0m\n\u001b[0;32m--> 931\u001b[0;31m             \u001b[0;32mreturn\u001b[0m \u001b[0mself\u001b[0m\u001b[0;34m.\u001b[0m\u001b[0m_getitem_axis\u001b[0m\u001b[0;34m(\u001b[0m\u001b[0mmaybe_callable\u001b[0m\u001b[0;34m,\u001b[0m \u001b[0maxis\u001b[0m\u001b[0;34m=\u001b[0m\u001b[0maxis\u001b[0m\u001b[0;34m)\u001b[0m\u001b[0;34m\u001b[0m\u001b[0;34m\u001b[0m\u001b[0m\n\u001b[0m\u001b[1;32m    932\u001b[0m \u001b[0;34m\u001b[0m\u001b[0m\n\u001b[1;32m    933\u001b[0m     \u001b[0;32mdef\u001b[0m \u001b[0m_is_scalar_access\u001b[0m\u001b[0;34m(\u001b[0m\u001b[0mself\u001b[0m\u001b[0;34m,\u001b[0m \u001b[0mkey\u001b[0m\u001b[0;34m:\u001b[0m \u001b[0mtuple\u001b[0m\u001b[0;34m)\u001b[0m\u001b[0;34m:\u001b[0m\u001b[0;34m\u001b[0m\u001b[0;34m\u001b[0m\u001b[0m\n",
      "\u001b[0;32m~/miniconda3/lib/python3.9/site-packages/pandas/core/indexing.py\u001b[0m in \u001b[0;36m_getitem_axis\u001b[0;34m(self, key, axis)\u001b[0m\n\u001b[1;32m   1561\u001b[0m             \u001b[0mkey\u001b[0m \u001b[0;34m=\u001b[0m \u001b[0mitem_from_zerodim\u001b[0m\u001b[0;34m(\u001b[0m\u001b[0mkey\u001b[0m\u001b[0;34m)\u001b[0m\u001b[0;34m\u001b[0m\u001b[0;34m\u001b[0m\u001b[0m\n\u001b[1;32m   1562\u001b[0m             \u001b[0;32mif\u001b[0m \u001b[0;32mnot\u001b[0m \u001b[0mis_integer\u001b[0m\u001b[0;34m(\u001b[0m\u001b[0mkey\u001b[0m\u001b[0;34m)\u001b[0m\u001b[0;34m:\u001b[0m\u001b[0;34m\u001b[0m\u001b[0;34m\u001b[0m\u001b[0m\n\u001b[0;32m-> 1563\u001b[0;31m                 \u001b[0;32mraise\u001b[0m \u001b[0mTypeError\u001b[0m\u001b[0;34m(\u001b[0m\u001b[0;34m\"Cannot index by location index with a non-integer key\"\u001b[0m\u001b[0;34m)\u001b[0m\u001b[0;34m\u001b[0m\u001b[0;34m\u001b[0m\u001b[0m\n\u001b[0m\u001b[1;32m   1564\u001b[0m \u001b[0;34m\u001b[0m\u001b[0m\n\u001b[1;32m   1565\u001b[0m             \u001b[0;31m# validate the location\u001b[0m\u001b[0;34m\u001b[0m\u001b[0;34m\u001b[0m\u001b[0;34m\u001b[0m\u001b[0m\n",
      "\u001b[0;31mTypeError\u001b[0m: Cannot index by location index with a non-integer key"
     ]
    }
   ],
   "source": [
    "#mise en place de Gale-Shapley\n",
    "galeShapley(preferenceE, preferenceP, lsProjetName)\n"
   ]
  }
 ],
 "metadata": {
  "kernelspec": {
   "display_name": "Python 3.9.5 ('base')",
   "language": "python",
   "name": "python3"
  },
  "language_info": {
   "codemirror_mode": {
    "name": "ipython",
    "version": 3
   },
   "file_extension": ".py",
   "mimetype": "text/x-python",
   "name": "python",
   "nbconvert_exporter": "python",
   "pygments_lexer": "ipython3",
   "version": "3.9.5"
  },
  "orig_nbformat": 4,
  "vscode": {
   "interpreter": {
    "hash": "e1867511be4942795e9bc41a5f429c2d9a257496249989d3cda177bc0058e10c"
   }
  }
 },
 "nbformat": 4,
 "nbformat_minor": 2
}

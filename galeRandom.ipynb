{
 "cells": [
  {
   "cell_type": "code",
   "execution_count": 422,
   "metadata": {},
   "outputs": [],
   "source": [
    "import csv\n",
    "import random as rd\n",
    "from copy import deepcopy"
   ]
  },
  {
   "cell_type": "code",
   "execution_count": 423,
   "metadata": {},
   "outputs": [
    {
     "name": "stdout",
     "output_type": "stream",
     "text": [
      "[2, 2, 2, 2, 2, 2]\n"
     ]
    }
   ],
   "source": [
    "# Chaque item correspond à la place disponible dans chaque projet\n",
    "projetName = [\"projet coolos\", \"projet claqué\", \"projet 3\", \"projet 4\", \"projet 5\", \"projet 6\"]\n",
    "projetPlaces = [2 for i in range(len(projetName))]\n",
    "print(projetPlaces)\n",
    "\n",
    "#nbEleves = 18 + 42 + 2\n",
    "# Attention méthode Yvon"
   ]
  },
  {
   "cell_type": "code",
   "execution_count": 424,
   "metadata": {},
   "outputs": [
    {
     "name": "stdout",
     "output_type": "stream",
     "text": [
      "['Nom Prénom', 'Mes préférences\\n [Projet 1]', 'Mes préférences\\n [Projet 2]', 'Mes préférences\\n [Projet 3]', 'Mes préférences\\n [Projet 4]', 'Mes préférences\\n [Projet 5]', 'Mes préférences\\n [Projet 6]']\n",
      "['eleve 9 123564', '1', '2', '3', '5', '6', '4']\n",
      "['eleve 10 324516', '3', '2', '4', '5', '1', '6']\n",
      "['eleve 1 123456', '1', '2', '3', '4', '5', '6']\n",
      "['eleve 2 134562', '1', '3', '4', '5', '6', '2']\n",
      "['eleve 3 234561', '2', '3', '4', '5', '6', '1']\n",
      "['Eleve 4 345612', '3', '4', '5', '6', '1', '2']\n",
      "['eleve 5 145623', '1', '4', '5', '6', '2', '3']\n",
      "['eleve 6 156234', '1', '5', '6', '2', '3', '4']\n",
      "['eleve 7 123564', '1', '2', '3', '5', '6', '4']\n",
      "['eleve 8 234156', '2', '3', '4', '1', '5', '6']\n",
      "['Boutaric  Clément ', '1', '2', '3', '4', '5', '6']\n",
      "['Landais Joris', '6', '5', '4', '3', '2', '1']\n"
     ]
    }
   ],
   "source": [
    "data = []\n",
    "with open(\"choix.csv\", \"r\") as f:\n",
    "    choix = csv.reader(f)\n",
    "    for line in choix:\n",
    "        #cleaning data\n",
    "        line[2] = line[1] + \" \" + line[2] \n",
    "        line = line[2::]\n",
    "        print(line)\n",
    "        data.append(list(line))\n",
    "data = data[1::]"
   ]
  },
  {
   "cell_type": "code",
   "execution_count": 425,
   "metadata": {},
   "outputs": [
    {
     "name": "stdout",
     "output_type": "stream",
     "text": [
      "[[0, 'eleve 9 123564', 1, False, 1, 2, 3, 5, 6, 4], [1, 'eleve 10 324516', 1, False, 3, 2, 4, 5, 1, 6], [2, 'eleve 1 123456', 1, False, 1, 2, 3, 4, 5, 6], [3, 'eleve 2 134562', 1, False, 1, 3, 4, 5, 6, 2], [4, 'eleve 3 234561', 1, False, 2, 3, 4, 5, 6, 1], [5, 'Eleve 4 345612', 1, False, 3, 4, 5, 6, 1, 2], [6, 'eleve 5 145623', 1, False, 1, 4, 5, 6, 2, 3], [7, 'eleve 6 156234', 1, False, 1, 5, 6, 2, 3, 4], [8, 'eleve 7 123564', 1, False, 1, 2, 3, 5, 6, 4], [9, 'eleve 8 234156', 1, False, 2, 3, 4, 1, 5, 6], [10, 'Boutaric  Clément ', 1, False, 1, 2, 3, 4, 5, 6], [11, 'Landais Joris', 1, False, 6, 5, 4, 3, 2, 1]] <class 'int'>\n"
     ]
    }
   ],
   "source": [
    "preferenceE = deepcopy(data)\n",
    "for i, line in enumerate(preferenceE):\n",
    "    for j,elem in enumerate(line[1::]):\n",
    "        preferenceE[i][j + 1] = int(elem)\n",
    "for line in preferenceE:\n",
    "    line = line.insert(1,1)\n",
    "for line in preferenceE:\n",
    "    line = line.insert(2, False)\n",
    "for i,line in enumerate(preferenceE):\n",
    "    line = line.insert(0,i)\n",
    "\n",
    "print(preferenceE, type(preferenceE[0][6]))\n",
    "\n",
    "#variable sur lse indices\n",
    "iId = 0\n",
    "iName = 1\n",
    "iRank = 2\n",
    "iAttributed = 3\n",
    "iChoice = 4"
   ]
  },
  {
   "cell_type": "markdown",
   "metadata": {},
   "source": [
    "L'algo nécessite 3 tables:\n",
    "* Table des préférences des élèves \n",
    "La structure est [id, Nom Prenom, rang du projet actuel, attribué, rang projet x]\n",
    "* Table de préférence des projets\n",
    "La structure est une liste, dont l'ordre des chiffres indique la préférence pour les élèves\n",
    "* Table d'attribution\n",
    "Chaque ligne est un projet, et chaque colonne indique l'élève qui y a été assigné, sans préférence d'ordre"
   ]
  },
  {
   "cell_type": "code",
   "execution_count": 426,
   "metadata": {},
   "outputs": [
    {
     "name": "stdout",
     "output_type": "stream",
     "text": [
      "[[9, 8, 10, 3, 4, 0, 2, 11, 6, 5, 7, 1], [8, 6, 1, 10, 3, 7, 9, 5, 11, 4, 0, 2], [5, 0, 8, 11, 10, 4, 1, 2, 6, 3, 9, 7], [7, 5, 4, 11, 8, 2, 0, 1, 3, 9, 10, 6], [2, 10, 5, 4, 6, 9, 0, 1, 8, 11, 3, 7], [9, 10, 4, 2, 6, 7, 5, 0, 1, 11, 8, 3]]\n"
     ]
    }
   ],
   "source": [
    "#construction de la liste de préférence projet\n",
    "preferenceP = []\n",
    "for i in range(len(projetName)):\n",
    "    ls = [i for i in range(len(preferenceE))]\n",
    "    rd.shuffle(ls)\n",
    "    preferenceP.append(ls)\n",
    "print(preferenceP)"
   ]
  },
  {
   "cell_type": "code",
   "execution_count": 427,
   "metadata": {},
   "outputs": [],
   "source": [
    "#useful functions\n",
    "def fullProject(lsAlloc, places):\n",
    "    if len(lsAlloc) < places:\n",
    "        return False\n",
    "    else:\n",
    "        return True\n",
    "\n",
    "def projetActual(student, rank):\n",
    "    #out projet number\n",
    "    for i in range(iChoice, len(student)):\n",
    "        if student[i] == rank:\n",
    "            return i - iChoice\n",
    "\n",
    "def stillUnallocated(prefE):\n",
    "    #out: boolean if continue, and list of unallocated\n",
    "    unallocated = []\n",
    "    for line in prefE:\n",
    "        if not line[iAttributed]:\n",
    "            unallocated.append(line)\n",
    "    if len(unallocated) == 0:\n",
    "        return (False, unallocated)\n",
    "    else:\n",
    "        return True, unallocated\n",
    "\n",
    "def leastPreferedStudent(allocProjet, prefP):\n",
    "    \"\"\"in: list of allocation for a projet and preference of this projet\n",
    "    out: id of the least prefered student, index of least prefered student in allocProjet \"\"\"\n",
    "    maxPos = 0\n",
    "    leastStudent = None\n",
    "    for student in allocProjet:\n",
    "        #find the position of preference of student\n",
    "        position = prefP.index(student)\n",
    "        if position > maxPos:\n",
    "            maxPos = position\n",
    "            leastStudent = student\n",
    "    return leastStudent, allocProjet.index(leastStudent)"
   ]
  },
  {
   "cell_type": "code",
   "execution_count": 428,
   "metadata": {},
   "outputs": [
    {
     "name": "stdout",
     "output_type": "stream",
     "text": [
      "projetACtual 4\n",
      "stillUnallocated (True, [[0, 'eleve 9 123564', 1, False, 1, 2, 3, 5, 6, 4], [1, 'eleve 10 324516', 1, False, 3, 2, 4, 5, 1, 6], [2, 'eleve 1 123456', 1, False, 1, 2, 3, 4, 5, 6], [3, 'eleve 2 134562', 1, False, 1, 3, 4, 5, 6, 2], [4, 'eleve 3 234561', 1, False, 2, 3, 4, 5, 6, 1], [5, 'Eleve 4 345612', 1, False, 3, 4, 5, 6, 1, 2], [6, 'eleve 5 145623', 1, False, 1, 4, 5, 6, 2, 3], [7, 'eleve 6 156234', 1, False, 1, 5, 6, 2, 3, 4], [8, 'eleve 7 123564', 1, False, 1, 2, 3, 5, 6, 4], [9, 'eleve 8 234156', 1, False, 2, 3, 4, 1, 5, 6], [10, 'Boutaric  Clément ', 1, False, 1, 2, 3, 4, 5, 6], [11, 'Landais Joris', 1, False, 6, 5, 4, 3, 2, 1]])\n",
      "leastPreferedStudent (3, 1)\n"
     ]
    }
   ],
   "source": [
    "print(\"projetACtual\", projetActual(preferenceE[1], preferenceE[1][iRank]))\n",
    "print(\"stillUnallocated\", stillUnallocated(preferenceE))\n",
    "print(\"leastPreferedStudent\", leastPreferedStudent([0, 3, 2], [0, 1, 2, 3, 4, 5]))"
   ]
  },
  {
   "cell_type": "code",
   "execution_count": 429,
   "metadata": {},
   "outputs": [],
   "source": [
    "def galeShapley(prefE, prefP):\n",
    "    allocation = [[] for i in range(len(prefP))]\n",
    "    while stillUnallocated(prefE)[0]:\n",
    "        for student in stillUnallocated(prefE)[1]:\n",
    "            askProjet = projetActual(student, student[iRank])\n",
    "            if not fullProject(allocation[askProjet], projetPlaces[askProjet]):\n",
    "                allocation[askProjet].append(student[iId])\n",
    "                student[iAttributed] = True\n",
    "            else:\n",
    "                #print(f\"full for project {askProjet}, with student {student}, with actual allocation {allocation[askProjet]}\")\n",
    "                leastStudent, maxPos = leastPreferedStudent(allocation[askProjet], prefP[askProjet])\n",
    "                if leastStudent == student[iId]:\n",
    "                    student[iRank] += 1\n",
    "                else:\n",
    "                    allocation[askProjet][maxPos] = student[iId]\n",
    "                    student[iAttributed] = True\n",
    "                    prefE[leastStudent][iRank] +=1\n",
    "                    prefE[leastStudent][iAttributed] = False\n",
    "    return allocation"
   ]
  },
  {
   "cell_type": "markdown",
   "metadata": {},
   "source": [
    "Vu que la préférence est aléatoire, on va faire tourner plusieurs fois l'algorithme pour déterminer la configuration la plus favorable. Le critère est le nombre de gens qui ont le rang le plus élevé. Si ça ne suffit pas à départager, on prendra en compte la moyenne.\n"
   ]
  },
  {
   "cell_type": "code",
   "execution_count": 430,
   "metadata": {},
   "outputs": [],
   "source": [
    "def satisfaction(attribution, prefE):\n",
    "    maxRank = 1\n",
    "    nbmax = 0\n",
    "    for i in range(len(attribution)):\n",
    "        for j in range(len(attribution[i])):\n",
    "            studentId = attribution[i][j]\n",
    "            actualRank = prefE[studentId][iRank]\n",
    "            if actualRank >  maxRank:\n",
    "                maxRank = actualRank\n",
    "                nbmax = 1\n",
    "            elif actualRank == maxRank:\n",
    "                nbmax += 1\n",
    "                \n",
    "    return maxRank, nbmax\n",
    "    "
   ]
  },
  {
   "cell_type": "code",
   "execution_count": 431,
   "metadata": {},
   "outputs": [
    {
     "name": "stdout",
     "output_type": "stream",
     "text": [
      "[[8, 10], [3, 1], [2, 0], [9, 7], [11, 5], [4, 6]]\n",
      "[[0, 'eleve 9 123564', 3, True, 1, 2, 3, 5, 6, 4], [1, 'eleve 10 324516', 2, True, 3, 2, 4, 5, 1, 6], [2, 'eleve 1 123456', 3, True, 1, 2, 3, 4, 5, 6], [3, 'eleve 2 134562', 3, True, 1, 3, 4, 5, 6, 2], [4, 'eleve 3 234561', 1, True, 2, 3, 4, 5, 6, 1], [5, 'Eleve 4 345612', 1, True, 3, 4, 5, 6, 1, 2], [6, 'eleve 5 145623', 3, True, 1, 4, 5, 6, 2, 3], [7, 'eleve 6 156234', 2, True, 1, 5, 6, 2, 3, 4], [8, 'eleve 7 123564', 1, True, 1, 2, 3, 5, 6, 4], [9, 'eleve 8 234156', 1, True, 2, 3, 4, 1, 5, 6], [10, 'Boutaric  Clément ', 1, True, 1, 2, 3, 4, 5, 6], [11, 'Landais Joris', 2, True, 6, 5, 4, 3, 2, 1]]\n"
     ]
    },
    {
     "data": {
      "text/plain": [
       "(3, 4)"
      ]
     },
     "execution_count": 431,
     "metadata": {},
     "output_type": "execute_result"
    }
   ],
   "source": [
    "allocation = galeShapley(preferenceE, preferenceP)\n",
    "print(allocation)\n",
    "print(preferenceE)\n",
    "satisfaction(allocation, preferenceE)"
   ]
  },
  {
   "cell_type": "code",
   "execution_count": 432,
   "metadata": {},
   "outputs": [
    {
     "name": "stdout",
     "output_type": "stream",
     "text": [
      "changed something with satisfaction actual (3, 4) and max [6, 12]\n",
      "changed something after draw with satisfaction actual (3, 2) and max (3, 4)\n",
      "[[6, 4], [8, 10], [0, 2], [9, 7], [1, 5], [3, 11]] (3, 2)\n"
     ]
    }
   ],
   "source": [
    "maxSatisfaction = [len(projetName), len(preferenceE)]\n",
    "maxAllocation = []\n",
    "\n",
    "for i in range(100):\n",
    "    #re initialize preferenceE et preferenceP\n",
    "    preferenceE = deepcopy(data)\n",
    "    for i, line in enumerate(preferenceE):\n",
    "        for j,elem in enumerate(line[1::]):\n",
    "            preferenceE[i][j + 1] = int(elem)\n",
    "    for line in preferenceE:\n",
    "        line = line.insert(1,1)\n",
    "    for line in preferenceE:\n",
    "        line = line.insert(2, False)\n",
    "    for i,line in enumerate(preferenceE):\n",
    "        line = line.insert(0,i)\n",
    "\n",
    "    preferenceP = []\n",
    "    for i in range(len(projetName)):\n",
    "        ls = [i for i in range(len(preferenceE))]\n",
    "        rd.shuffle(ls)\n",
    "        preferenceP.append(ls)\n",
    "\n",
    "    #choose preferred attribution\n",
    "    actualAllocation = galeShapley(preferenceE, preferenceP)\n",
    "    actualSatisfaction = satisfaction(allocation, preferenceE)\n",
    "\n",
    "    if actualSatisfaction[0] < maxSatisfaction[0]:\n",
    "        print(f\"changed something with satisfaction actual {actualSatisfaction} and max {maxSatisfaction}\")\n",
    "        maXallocation = actualAllocation\n",
    "        maxSatisfaction = actualSatisfaction\n",
    "    elif actualSatisfaction[0] == maxSatisfaction[0]:\n",
    "        if actualSatisfaction[1] < maxSatisfaction[1]:\n",
    "            print(f\"changed something after draw with satisfaction actual {actualSatisfaction} and max {maxSatisfaction}\")\n",
    "            maxAllocation = actualAllocation   \n",
    "            maxSatisfaction = actualSatisfaction\n",
    "\n",
    "print(maxAllocation, satisfaction(maxAllocation, preferenceE)) "
   ]
  },
  {
   "cell_type": "code",
   "execution_count": 433,
   "metadata": {},
   "outputs": [
    {
     "name": "stdout",
     "output_type": "stream",
     "text": [
      "[['projet coolos', 'eleve 5 145623', 'eleve 3 234561'], ['projet claqué', 'eleve 7 123564', 'Boutaric  Clément '], ['projet 3', 'eleve 9 123564', 'eleve 1 123456'], ['projet 4', 'eleve 8 234156', 'eleve 6 156234'], ['projet 5', 'eleve 10 324516', 'Eleve 4 345612'], ['projet 6', 'eleve 2 134562', 'Landais Joris']]\n"
     ]
    }
   ],
   "source": [
    "#re assign name to number\n",
    "for i, projet in enumerate(maxAllocation):\n",
    "    for j, student in enumerate(projet):\n",
    "        maxAllocation[i][j] = preferenceE[student][iName]\n",
    "\n",
    "for i in range(len(maxAllocation)):\n",
    "    maxAllocation[i].insert(0, projetName[i])\n",
    "print(maxAllocation)"
   ]
  },
  {
   "cell_type": "code",
   "execution_count": 435,
   "metadata": {},
   "outputs": [],
   "source": [
    "with open(\"result.csv\", \"w\") as f:\n",
    "    writer = csv.writer(f)\n",
    "    writer.writerows(maxAllocation)"
   ]
  },
  {
   "cell_type": "markdown",
   "metadata": {},
   "source": [
    "Reste plus qu'à\n",
    "- implémenter l'ordre aléatoire (mais est-ce vraiment utile, comme le nombre de frustré sera toujours le même)\n",
    "- Rendre le résultat avec un csv et les noms"
   ]
  }
 ],
 "metadata": {
  "kernelspec": {
   "display_name": "Python 3.9.5 ('base')",
   "language": "python",
   "name": "python3"
  },
  "language_info": {
   "codemirror_mode": {
    "name": "ipython",
    "version": 3
   },
   "file_extension": ".py",
   "mimetype": "text/x-python",
   "name": "python",
   "nbconvert_exporter": "python",
   "pygments_lexer": "ipython3",
   "version": "3.9.5"
  },
  "orig_nbformat": 4,
  "vscode": {
   "interpreter": {
    "hash": "e1867511be4942795e9bc41a5f429c2d9a257496249989d3cda177bc0058e10c"
   }
  }
 },
 "nbformat": 4,
 "nbformat_minor": 2
}
